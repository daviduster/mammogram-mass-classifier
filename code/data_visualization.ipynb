{
 "metadata": {
  "language_info": {
   "codemirror_mode": {
    "name": "ipython",
    "version": 3
   },
   "file_extension": ".py",
   "mimetype": "text/x-python",
   "name": "python",
   "nbconvert_exporter": "python",
   "pygments_lexer": "ipython3",
   "version": "3.8.2-final"
  },
  "orig_nbformat": 2,
  "kernelspec": {
   "name": "Python 3.8.2 64-bit",
   "display_name": "Python 3.8.2 64-bit",
   "metadata": {
    "interpreter": {
     "hash": "5edc29c2ed010d6458d71a83433b383a96a8cbd3efe8531bc90c4b8a5b8bcec9"
    }
   }
  }
 },
 "nbformat": 4,
 "nbformat_minor": 2,
 "cells": [
  {
   "source": [
    "import numpy as np\n",
    "import pandas as pd"
   ],
   "cell_type": "code",
   "metadata": {},
   "execution_count": null,
   "outputs": []
  },
  {
   "cell_type": "code",
   "execution_count": null,
   "metadata": {},
   "outputs": [],
   "source": [
    "mamm_csv = \"mamografias.csv\""
   ]
  },
  {
   "cell_type": "code",
   "execution_count": null,
   "metadata": {},
   "outputs": [],
   "source": [
    "missing_values_format = [\"?\"]\n",
    "mamm_data = pd.read_csv(mamm_csv, na_values=missing_values_format)\n",
    "# ma_df = pd.read_csv(mamm_data, na_values=missing_values_format, usecols=range(1,6))\n",
    "mamm_data.head()"
   ]
  },
  {
   "cell_type": "code",
   "execution_count": null,
   "metadata": {},
   "outputs": [],
   "source": [
    "mamm_data.dtypes"
   ]
  },
  {
   "source": [
    "#mamm_data.describe(include=(\"all\"))\n",
    "mamm_data.describe()"
   ],
   "cell_type": "code",
   "metadata": {},
   "execution_count": null,
   "outputs": []
  },
  {
   "cell_type": "code",
   "execution_count": null,
   "metadata": {},
   "outputs": [],
   "source": [
    "mamm_data.corr()"
   ]
  },
  {
   "cell_type": "code",
   "execution_count": null,
   "metadata": {},
   "outputs": [],
   "source": [
    "mamm_data.shape"
   ]
  },
  {
   "cell_type": "code",
   "execution_count": null,
   "metadata": {},
   "outputs": [],
   "source": [
    "mamm_data['Severity'].value_counts()"
   ]
  },
  {
   "source": [
    "# Visualización de los datos"
   ],
   "cell_type": "markdown",
   "metadata": {}
  },
  {
   "cell_type": "code",
   "execution_count": null,
   "metadata": {},
   "outputs": [],
   "source": [
    "import seaborn as sns\n",
    "import matplotlib.pyplot as plt\n",
    "from matplotlib.colors import ListedColormap"
   ]
  },
  {
   "cell_type": "code",
   "execution_count": null,
   "metadata": {},
   "outputs": [],
   "source": [
    "fig, axes = plt.subplots(1,5, sharey=False, figsize=(18,4))\n",
    "ax1, ax2, ax3, ax4, ax5 = axes.flatten()\n",
    "\n",
    "ax1.hist(mamm_data['BI-RADS'], bins=6, color=\"lightslategray\")\n",
    "ax2.hist(mamm_data['Age'], bins=12, color=\"skyblue\")\n",
    "ax3.hist(mamm_data['Shape'], bins=5, color=\"steelblue\")\n",
    "ax4.hist(mamm_data['Margin'], bins=5, color=\"mediumslateblue\")\n",
    "ax5.hist(mamm_data['Density'], bins=4, color=\"darkslategray\")\n",
    "ax1.set_xlabel('BI-RADS', fontsize=\"large\")\n",
    "ax2.set_xlabel('Age', fontsize=\"large\")\n",
    "ax3.set_xlabel('Shape', fontsize=\"large\")\n",
    "ax4.set_xlabel('Margin', fontsize=\"large\")\n",
    "ax5.set_xlabel('Density', fontsize=\"large\")\n",
    "\n",
    "ax1.set_ylabel(\"counts\", fontsize=\"large\")\n",
    "\n",
    "plt.suptitle('Comparación de las distribuciones', ha='center', fontsize='x-large')\n",
    "plt.savefig(\"figures_python/compare_distribucions.pdf\")\n",
    "plt.show()\n",
    "sns.despine(offset=10, trim=True)\n",
    "sns.set(rc={'figure.figsize':(15,15)})\n",
    "sns.set(style=\"whitegrid\", color_codes=True)"
   ]
  },
  {
   "cell_type": "code",
   "execution_count": null,
   "metadata": {},
   "outputs": [],
   "source": [
    "sns.set(rc={'figure.figsize':(10,5)})\n",
    "sns.countplot('Shape',data=mamm_data,hue = 'Severity')\n",
    "plt.savefig(\"figures_python/countplot_shape_severity.pdf\")"
   ]
  },
  {
   "cell_type": "code",
   "execution_count": null,
   "metadata": {},
   "outputs": [],
   "source": [
    "sns.countplot('BI-RADS',data=mamm_data,hue = 'Severity')\n",
    "plt.savefig(\"figures_python/countplot_bi_severity.pdf\")"
   ]
  },
  {
   "cell_type": "code",
   "execution_count": null,
   "metadata": {},
   "outputs": [],
   "source": [
    "#sns.boxplot(x='BI-RADS', y=\"Shape\", data=mamm_data, hue=\"Severity\")"
   ]
  },
  {
   "source": [
    "# PREPROCESADO DE DATOS"
   ],
   "cell_type": "markdown",
   "metadata": {}
  },
  {
   "source": [
    "There are several different types of categorical data including:\n",
    "\n",
    "* Binary: A variable that has only 2 values. For example, True/False or Yes/No.\n",
    "\n",
    "* Ordinal: A variable that has some order associated with it like our place example above. The machine learning model may be able to use the order information to make better predictions and we want to preserve it.\n",
    "\n",
    "* Nominal: A variable that has no numerical importance, for example color or city."
   ],
   "cell_type": "markdown",
   "metadata": {}
  },
  {
   "cell_type": "code",
   "execution_count": null,
   "metadata": {},
   "outputs": [],
   "source": [
    "cols = [col for col in mamm_data.columns if col not in ['Severity']]\n",
    "data = mamm_data[cols]\n",
    "data_values = data.values\n",
    "target = mamm_data['Severity']\n",
    "data.head()"
   ]
  },
  {
   "cell_type": "code",
   "execution_count": null,
   "metadata": {},
   "outputs": [],
   "source": [
    "for col in ['BI-RADS', 'Age', 'Shape', 'Margin', 'Density', 'Severity']:\n",
    "    print(col, mamm_data[col].unique())"
   ]
  },
  {
   "cell_type": "code",
   "execution_count": null,
   "metadata": {},
   "outputs": [],
   "source": [
    "from sklearn.preprocessing import StandardScaler, LabelEncoder\n",
    "from sklearn import impute"
   ]
  },
  {
   "source": [
    "## LabelEncoder"
   ],
   "cell_type": "markdown",
   "metadata": {}
  },
  {
   "cell_type": "code",
   "execution_count": null,
   "metadata": {},
   "outputs": [],
   "source": [
    "mamm_data_for_order = mamm_data.copy()"
   ]
  },
  {
   "cell_type": "code",
   "execution_count": null,
   "metadata": {},
   "outputs": [],
   "source": [
    "le = LabelEncoder()"
   ]
  },
  {
   "cell_type": "code",
   "execution_count": null,
   "metadata": {},
   "outputs": [],
   "source": [
    "mamm_data[\"Severity\"] = le.fit_transform(mamm_data['Severity']) # maligno (1), benigno (0)\n",
    "mamm_data[\"Shape\"] = le.fit_transform(mamm_data['Shape'])"
   ]
  },
  {
   "cell_type": "code",
   "execution_count": null,
   "metadata": {},
   "outputs": [],
   "source": [
    "mamm_data.head()  "
   ]
  },
  {
   "source": [
    "## Encoding with order"
   ],
   "cell_type": "markdown",
   "metadata": {}
  },
  {
   "cell_type": "code",
   "execution_count": null,
   "metadata": {},
   "outputs": [],
   "source": [
    "le = LabelEncoder()"
   ]
  },
  {
   "cell_type": "code",
   "execution_count": null,
   "metadata": {},
   "outputs": [],
   "source": [
    "shape_order = {'N': 1.0, 'R': 2.0, 'O': 3.0, 'L': 4.0, 'I': 5.0}\n",
    "mamm_data_for_order[\"Severity\"] = le.fit_transform(mamm_data_for_order['Severity']) # maligno (1), benigno (0)\n",
    "mamm_data_for_order['Shape'] = mamm_data_for_order['Shape'].map(shape_order)"
   ]
  },
  {
   "cell_type": "code",
   "execution_count": null,
   "metadata": {},
   "outputs": [],
   "source": [
    "mamm_data_for_order.head()"
   ]
  },
  {
   "cell_type": "code",
   "execution_count": null,
   "metadata": {},
   "outputs": [],
   "source": [
    "f,ax = plt.subplots(figsize=(10, 10))\n",
    "sns.heatmap(mamm_data.corr(), annot=True, linewidths=0.5, fmt= '.2f',ax=ax)\n",
    "plt.suptitle('Correlación sin ordenar Shape en el encoding', ha='center', fontsize='x-large')\n",
    "plt.savefig(\"figures_python/corr.pdf\")\n",
    "plt.show()"
   ]
  },
  {
   "cell_type": "code",
   "execution_count": null,
   "metadata": {},
   "outputs": [],
   "source": [
    "f,ax = plt.subplots(figsize=(10, 10))\n",
    "sns.heatmap(mamm_data_for_order.corr(), annot=True, linewidths=0.5, fmt= '.2f',ax=ax)\n",
    "plt.suptitle('Correlación ordenando Shape', ha='center', fontsize='x-large')\n",
    "plt.savefig(\"figures_python/corr_shape_ordered.pdf\")\n",
    "plt.show()"
   ]
  },
  {
   "source": [],
   "cell_type": "markdown",
   "metadata": {}
  }
 ]
}