{
 "metadata": {
  "language_info": {
   "codemirror_mode": {
    "name": "ipython",
    "version": 3
   },
   "file_extension": ".py",
   "mimetype": "text/x-python",
   "name": "python",
   "nbconvert_exporter": "python",
   "pygments_lexer": "ipython3",
   "version": "3.8.2-final"
  },
  "orig_nbformat": 2,
  "kernelspec": {
   "name": "Python 3.8.2 64-bit",
   "display_name": "Python 3.8.2 64-bit",
   "metadata": {
    "interpreter": {
     "hash": "31f2aee4e71d21fbe5cf8b01ff0e069b9275f58929596ceb00d14d90e3e16cd6"
    }
   }
  }
 },
 "nbformat": 4,
 "nbformat_minor": 2,
 "cells": [
  {
   "source": [
    "# Imputing missing values before building an estimator\n"
   ],
   "cell_type": "markdown",
   "metadata": {}
  },
  {
   "cell_type": "code",
   "execution_count": null,
   "metadata": {},
   "outputs": [],
   "source": [
    "import numpy as np\n",
    "import pandas as pd"
   ]
  },
  {
   "cell_type": "code",
   "execution_count": null,
   "metadata": {},
   "outputs": [],
   "source": [
    "mamm_csv = \"mamografias.csv\""
   ]
  },
  {
   "cell_type": "code",
   "execution_count": null,
   "metadata": {},
   "outputs": [],
   "source": [
    "missing_values_format = [\"?\"]\n",
    "mamm_data = pd.read_csv(mamm_csv, na_values=missing_values_format)\n",
    "mamm_data.head()"
   ]
  },
  {
   "cell_type": "code",
   "execution_count": null,
   "metadata": {},
   "outputs": [],
   "source": [
    "mamm_data.info()"
   ]
  },
  {
   "cell_type": "code",
   "execution_count": null,
   "metadata": {},
   "outputs": [],
   "source": [
    "from sklearn.preprocessing import StandardScaler, LabelEncoder, MinMaxScaler\n",
    "\n",
    "le = LabelEncoder()\n",
    "#convert the categorical columns into numeric\n",
    "mamm_data['Severity'] = le.fit_transform(mamm_data['Severity'])\n",
    "mamm_data['Shape'] = le.fit_transform(mamm_data['Shape'])"
   ]
  },
  {
   "cell_type": "code",
   "execution_count": null,
   "metadata": {},
   "outputs": [],
   "source": [
    "mamm_data.head()"
   ]
  },
  {
   "cell_type": "code",
   "execution_count": null,
   "metadata": {},
   "outputs": [],
   "source": [
    "# Number of NULL values per feature\n",
    "mamm_data.isnull().sum()"
   ]
  },
  {
   "cell_type": "code",
   "execution_count": null,
   "metadata": {},
   "outputs": [],
   "source": [
    "mamm_data.shape"
   ]
  },
  {
   "cell_type": "code",
   "execution_count": null,
   "metadata": {},
   "outputs": [],
   "source": [
    "mamm_data_without_nan = mamm_data.dropna()"
   ]
  },
  {
   "cell_type": "code",
   "execution_count": null,
   "metadata": {},
   "outputs": [],
   "source": [
    "mamm_data_without_nan.isnull().sum()"
   ]
  },
  {
   "cell_type": "code",
   "execution_count": null,
   "metadata": {},
   "outputs": [],
   "source": [
    "mamm_data_without_nan.shape"
   ]
  },
  {
   "cell_type": "code",
   "execution_count": null,
   "metadata": {},
   "outputs": [],
   "source": [
    "cols = [col for col in mamm_data.columns if col not in ['Severity']]"
   ]
  },
  {
   "cell_type": "code",
   "execution_count": null,
   "metadata": {},
   "outputs": [],
   "source": [
    "X_no_nan = mamm_data_without_nan[cols]\n",
    "y_no_nan= mamm_data_without_nan['Severity']\n",
    "X = mamm_data[cols]\n",
    "y = mamm_data['Severity']"
   ]
  },
  {
   "cell_type": "code",
   "execution_count": null,
   "metadata": {},
   "outputs": [],
   "source": [
    "X.info()"
   ]
  },
  {
   "cell_type": "code",
   "execution_count": null,
   "metadata": {},
   "outputs": [],
   "source": [
    "X.shape"
   ]
  },
  {
   "cell_type": "code",
   "execution_count": null,
   "metadata": {},
   "outputs": [],
   "source": [
    "X_no_nan.info()"
   ]
  },
  {
   "cell_type": "code",
   "execution_count": null,
   "metadata": {},
   "outputs": [],
   "source": [
    "X_no_nan.shape"
   ]
  },
  {
   "cell_type": "code",
   "execution_count": null,
   "metadata": {},
   "outputs": [],
   "source": [
    "scaler = StandardScaler()\n",
    "X_scaled = scaler.fit_transform(X)\n",
    "X_no_nan_scaled = scaler.fit_transform(X_no_nan)"
   ]
  },
  {
   "cell_type": "code",
   "execution_count": null,
   "metadata": {},
   "outputs": [],
   "source": [
    "from sklearn.ensemble import RandomForestClassifier, AdaBoostClassifier\n",
    "from sklearn.svm import SVC, LinearSVC\n",
    "from sklearn.naive_bayes import GaussianNB\n",
    "from sklearn.linear_model import LogisticRegression\n",
    "\n",
    "# To use the experimental IterativeImputer, we need to explicitly ask for it:\n",
    "from sklearn.experimental import enable_iterative_imputer  # noqa\n",
    "from sklearn.impute import SimpleImputer, KNNImputer, IterativeImputer\n",
    "from sklearn.model_selection import cross_val_score\n",
    "from sklearn.pipeline import make_pipeline"
   ]
  },
  {
   "cell_type": "code",
   "execution_count": null,
   "metadata": {},
   "outputs": [],
   "source": [
    "def get_full_score(regressor, X_full, y_full):\n",
    "    full_scores = cross_val_score(regressor, X_full, y_full, scoring='accuracy', cv=N_SPLITS)\n",
    "    return full_scores.mean(), full_scores.std()"
   ]
  },
  {
   "cell_type": "code",
   "execution_count": null,
   "metadata": {},
   "outputs": [],
   "source": [
    "def get_scores_for_imputer(regressor, imputer, X_missing, y_missing):\n",
    "    estimator = make_pipeline(imputer, regressor)\n",
    "    impute_scores = cross_val_score(estimator, X_missing, y_missing, scoring='accuracy', cv=N_SPLITS)\n",
    "    return impute_scores"
   ]
  },
  {
   "cell_type": "code",
   "execution_count": null,
   "metadata": {},
   "outputs": [],
   "source": [
    "def get_impute_zero_score(regressor, X_missing, y_missing):\n",
    "    imputer = SimpleImputer(missing_values=np.nan, add_indicator=True, strategy='constant', fill_value=0)\n",
    "    zero_impute_scores = get_scores_for_imputer(regressor, imputer, X_missing, y_missing)\n",
    "    return zero_impute_scores.mean(), zero_impute_scores.std()"
   ]
  },
  {
   "source": [
    "Sustitución por la media. Este método tan sólo es válido para\n",
    "variables numéricas."
   ],
   "cell_type": "markdown",
   "metadata": {}
  },
  {
   "cell_type": "code",
   "execution_count": null,
   "metadata": {},
   "outputs": [],
   "source": [
    "def get_impute_mean(regressor, X_missing, y_missing):\n",
    "    imputer = SimpleImputer(missing_values=np.nan, strategy=\"mean\", add_indicator=True)\n",
    "    mean_impute_scores = get_scores_for_imputer(regressor, imputer, X_missing, y_missing)\n",
    "    return mean_impute_scores.mean(), mean_impute_scores.std()"
   ]
  },
  {
   "source": [
    "Sustitución por la moda. Este método es válido para variables\n",
    "categóricas"
   ],
   "cell_type": "markdown",
   "metadata": {}
  },
  {
   "cell_type": "code",
   "execution_count": null,
   "metadata": {},
   "outputs": [],
   "source": [
    "def get_impute_mode(regressor, X_missing, y_missing):\n",
    "    imputer = SimpleImputer(missing_values=np.nan, strategy=\"most_frequent\", add_indicator=True)\n",
    "    mean_impute_scores = get_scores_for_imputer(regressor, imputer, X_missing, y_missing)\n",
    "    return mean_impute_scores.mean(), mean_impute_scores.std()"
   ]
  },
  {
   "source": [
    "the median is a more robust estimator for data with high magnitude variables which could dominate results (otherwise known as a 'long tail')."
   ],
   "cell_type": "markdown",
   "metadata": {}
  },
  {
   "cell_type": "code",
   "execution_count": null,
   "metadata": {},
   "outputs": [],
   "source": [
    "def get_impute_median(regressor, X_missing, y_missing):\n",
    "    imputer = SimpleImputer(missing_values=np.nan, strategy=\"median\", add_indicator=True)\n",
    "    mean_impute_scores = get_scores_for_imputer(regressor, imputer, X_missing, y_missing)\n",
    "    return mean_impute_scores.mean(), mean_impute_scores.std()"
   ]
  },
  {
   "source": [
    "Algoritmos del tipo k-vecinos más cercanos. Consisten en buscar\n",
    "los k valores más próximos al que queremos sustituir. Una vez\n",
    "identificados se puede sustituir por la media (algoritmo k-medias)\n",
    "o por la moda (algoritmo k-modas)."
   ],
   "cell_type": "markdown",
   "metadata": {}
  },
  {
   "cell_type": "code",
   "execution_count": null,
   "metadata": {},
   "outputs": [],
   "source": [
    "def get_impute_knn_score(regressor, X_missing, y_missing):\n",
    "    imputer = KNNImputer(missing_values=np.nan, add_indicator=True)\n",
    "    knn_impute_scores = get_scores_for_imputer(regressor, imputer, X_missing, y_missing)\n",
    "    return knn_impute_scores.mean(), knn_impute_scores.std()"
   ]
  },
  {
   "source": [
    "This uses round-robin linear regression, modeling each feature with missing values as a function of other features, in turn. The version implemented assumes Gaussian (output) variables. If your features are obviously non-normal, consider transforming them to look more normal to potentially improve performance."
   ],
   "cell_type": "markdown",
   "metadata": {}
  },
  {
   "cell_type": "code",
   "execution_count": null,
   "metadata": {},
   "outputs": [],
   "source": [
    "def get_impute_iterative(regressor, X_missing, y_missing):\n",
    "    imputer = IterativeImputer(missing_values=np.nan, add_indicator=True,random_state=0, n_nearest_features=5,sample_posterior=True)\n",
    "    iterative_impute_scores = get_scores_for_imputer(regressor, imputer, X_missing, y_missing)\n",
    "    return iterative_impute_scores.mean(), iterative_impute_scores.std()"
   ]
  },
  {
   "cell_type": "code",
   "execution_count": null,
   "metadata": {},
   "outputs": [],
   "source": [
    "from sklearn.ensemble import RandomForestClassifier, AdaBoostClassifier\n",
    "from sklearn.svm import SVC, LinearSVC\n",
    "from sklearn.naive_bayes import GaussianNB\n",
    "from sklearn.linear_model import LogisticRegression\n",
    "\n",
    "N_SPLITS = 5\n",
    "lr = LogisticRegression(C=1e5, random_state = 10)\n",
    "rfc = RandomForestClassifier(max_depth=3, n_estimators=100, random_state=10)\n",
    "ab = AdaBoostClassifier(n_estimators=100)\n",
    "gnb = GaussianNB()\n",
    "svc = SVC(kernel=\"linear\", random_state=10)\n",
    "svc_linear = LinearSVC(random_state=10)"
   ]
  },
  {
   "cell_type": "code",
   "execution_count": null,
   "metadata": {},
   "outputs": [],
   "source": [
    "x_labels = ['Drop missing',\n",
    "            'Zero imputation',\n",
    "            'Mean Imputation',\n",
    "            'Median Imputation',\n",
    "            'Mode Imputation',\n",
    "            'KNN Imputation',\n",
    "            'Iterative Imputation']"
   ]
  },
  {
   "cell_type": "code",
   "execution_count": null,
   "metadata": {},
   "outputs": [],
   "source": [
    "mses_lr = np.zeros(7)\n",
    "stds_lr = np.zeros(7)\n",
    "mses_rfc = np.zeros(7)\n",
    "stds_rfc = np.zeros(7)\n",
    "mses_ab = np.zeros(7)\n",
    "stds_ab = np.zeros(7)\n",
    "mses_gnb = np.zeros(7)\n",
    "stds_gnb = np.zeros(7)\n",
    "mses_svc = np.zeros(7)\n",
    "stds_svc = np.zeros(7)\n",
    "mses_linear_svc = np.zeros(7)\n",
    "stds_linear_svc = np.zeros(7)"
   ]
  },
  {
   "cell_type": "code",
   "execution_count": null,
   "metadata": {},
   "outputs": [],
   "source": [
    "mses_lr[0], stds_lr[0] = get_full_score(lr, X_no_nan, y_no_nan)\n",
    "mses_rfc[0], stds_rfc[0] = get_full_score(rfc, X_no_nan, y_no_nan)\n",
    "mses_ab[0], stds_ab[0] = get_full_score(ab, X_no_nan, y_no_nan)\n",
    "mses_gnb[0], stds_gnb[0] = get_full_score(gnb, X_no_nan, y_no_nan)\n",
    "mses_svc[0], stds_svc[0] = get_full_score(svc, X_no_nan, y_no_nan)\n",
    "mses_linear_svc[0], stds_linear_svc[0] = get_full_score(svc_linear, X_no_nan, y_no_nan)"
   ]
  },
  {
   "cell_type": "code",
   "execution_count": null,
   "metadata": {},
   "outputs": [],
   "source": [
    "mses_lr[1], stds_lr[1] = get_impute_zero_score(lr, X, y)\n",
    "mses_rfc[1], stds_rfc[1] = get_impute_zero_score(rfc, X, y)\n",
    "mses_ab[1], stds_ab[1] = get_impute_zero_score(ab, X, y)\n",
    "mses_gnb[1], stds_gnb[1] = get_impute_zero_score(gnb, X, y)\n",
    "mses_svc[1], stds_svc[1] = get_impute_zero_score(svc, X, y)\n",
    "mses_linear_svc[1], stds_linear_svc[1] = get_impute_zero_score(svc_linear, X, y)"
   ]
  },
  {
   "cell_type": "code",
   "execution_count": null,
   "metadata": {},
   "outputs": [],
   "source": [
    "mses_lr[2], stds_lr[2] = get_impute_mean(lr, X, y)\n",
    "mses_rfc[2], stds_rfc[2] = get_impute_mean(rfc, X, y)\n",
    "mses_ab[2], stds_ab[2] = get_impute_mean(ab, X, y)\n",
    "mses_gnb[2], stds_gnb[2] = get_impute_mean(gnb, X, y)\n",
    "mses_svc[2], stds_svc[2] = get_impute_mean(svc, X, y)\n",
    "mses_linear_svc[2], stds_linear_svc[2] = get_impute_mean(svc_linear, X, y)"
   ]
  },
  {
   "cell_type": "code",
   "execution_count": null,
   "metadata": {},
   "outputs": [],
   "source": [
    "mses_lr[3], stds_lr[3] = get_impute_median(lr, X, y)\n",
    "mses_rfc[3], stds_rfc[3] = get_impute_median(rfc, X, y)\n",
    "mses_ab[3], stds_ab[3] = get_impute_median(ab, X, y)\n",
    "mses_gnb[3], stds_gnb[3] = get_impute_median(gnb, X, y)\n",
    "mses_svc[3], stds_svc[3] = get_impute_median(svc, X, y)\n",
    "mses_linear_svc[3], stds_linear_svc[3] = get_impute_median(svc_linear, X, y)"
   ]
  },
  {
   "cell_type": "code",
   "execution_count": null,
   "metadata": {},
   "outputs": [],
   "source": [
    "mses_lr[4], stds_lr[4] = get_impute_mode(lr, X, y)\n",
    "mses_rfc[4], stds_rfc[4] = get_impute_mode(rfc, X, y)\n",
    "mses_ab[4], stds_ab[4] = get_impute_mode(ab, X, y)\n",
    "mses_gnb[4], stds_gnb[4] = get_impute_mode(gnb, X, y)\n",
    "mses_svc[4], stds_svc[4] = get_impute_mode(svc, X, y)\n",
    "mses_linear_svc[4], stds_linear_svc[4] = get_impute_mode(svc_linear, X, y)"
   ]
  },
  {
   "cell_type": "code",
   "execution_count": null,
   "metadata": {},
   "outputs": [],
   "source": [
    "mses_lr[5], stds_lr[5] = get_impute_knn_score(lr, X, y)\n",
    "mses_rfc[5], stds_rfc[5] = get_impute_knn_score(rfc, X, y)\n",
    "mses_ab[5], stds_ab[5] = get_impute_knn_score(ab, X, y)\n",
    "mses_gnb[5], stds_gnb[5] = get_impute_knn_score(gnb, X, y)\n",
    "mses_svc[5], stds_svc[5] = get_impute_knn_score(svc, X, y)\n",
    "mses_linear_svc[5], stds_linear_svc[5] = get_impute_knn_score(svc_linear, X, y)"
   ]
  },
  {
   "cell_type": "code",
   "execution_count": null,
   "metadata": {},
   "outputs": [],
   "source": [
    "mses_lr[6], stds_lr[6] = get_impute_iterative(lr, X, y)\n",
    "mses_rfc[6], stds_rfc[6] = get_impute_iterative(rfc, X, y)\n",
    "mses_ab[6], stds_ab[6] = get_impute_iterative(ab, X, y)\n",
    "mses_gnb[6], stds_gnb[6] = get_impute_iterative(gnb, X, y)\n",
    "mses_svc[6], stds_svc[6] = get_impute_iterative(svc, X, y)\n",
    "mses_linear_svc[6], stds_linear_svc[6] = get_impute_iterative(svc_linear, X, y)"
   ]
  },
  {
   "source": [
    "import matplotlib.pyplot as plt\n",
    "\n",
    "\n",
    "n_bars = len(mses)\n",
    "xval = np.arange(n_bars)\n",
    "\n",
    "colors = ['r', 'g', 'b', 'orange', 'black', 'skyblue', 'darkslategray']\n",
    "\n",
    "\n",
    "# plot results lr\n",
    "plt.figure(figsize=(12, 6))\n",
    "ax1 = plt.subplot(121)\n",
    "for j in xval:\n",
    "    ax1.barh(j, mses_lr[j], xerr=stds_lr[j], color=colors[j], alpha=0.6, align='center')\n",
    "    ax1.text(mses[j] , j + .25, str(mses_lr[j]), color=colors[j], fontweight='bold')\n",
    "\n",
    "ax1.set_title('LogisticRegression(C=1e5, random_state = 10)')\n",
    "ax1.set_xlim(left=np.min(mses_lr) * 0.9, right=np.max(mses_lr) * 1.1)\n",
    "ax1.set_yticks(xval)\n",
    "ax1.set_xlabel('cross_val_score accuracy')\n",
    "ax1.invert_yaxis()\n",
    "ax1.set_yticklabels(x_labels)\n",
    "\n",
    "# plot results rfc\n",
    "ax2 = plt.subplot(122)\n",
    "for j in xval:\n",
    "    ax2.barh(j, mses_rfc[j], xerr=stds_rfc[j], color=colors[j], alpha=0.6, align='center')\n",
    "    ax2.text(mses_rfc[j] , j + .25, str(mses_rfc[j]), color=colors[j], fontweight='bold')\n",
    "\n",
    "ax2.set_title('RandomForestClassifier(n_estimators=100, random_state=10)')\n",
    "ax2.set_xlim(left=np.min(mses_lr) * 0.9, right=np.max(mses_lr) * 1.1)\n",
    "ax2.set_yticks(xval)\n",
    "ax2.set_xlabel('cross_val_score accuracy')\n",
    "ax2.invert_yaxis()\n",
    "ax2.set_yticklabels([''] * n_bars)\n",
    "plt.savefig(\"figures_python/imputation_techniques/imputation_techniques_lr_rfc.pdf\")\n",
    "plt.show()\n"
   ],
   "cell_type": "code",
   "metadata": {},
   "execution_count": null,
   "outputs": []
  },
  {
   "cell_type": "code",
   "execution_count": null,
   "metadata": {},
   "outputs": [],
   "source": [
    "import matplotlib.pyplot as plt\n",
    "\n",
    "\n",
    "n_bars = len(mses)\n",
    "xval = np.arange(n_bars)\n",
    "\n",
    "colors = ['r', 'g', 'b', 'orange', 'black', 'skyblue', 'darkslategray']\n",
    "\n",
    "\n",
    "# plot results ab\n",
    "plt.figure(figsize=(12, 6))\n",
    "ax1 = plt.subplot(121)\n",
    "for j in xval:\n",
    "    ax1.barh(j, mses_ab[j], xerr=stds_ab[j], color=colors[j], alpha=0.6, align='center')\n",
    "    ax1.text(mses_ab[j] , j + .25, str(mses_ab[j]), color=colors[j], fontweight='bold')\n",
    "\n",
    "ax1.set_title('AdaBoostClassifier(n_estimators=100)')\n",
    "ax1.set_xlim(left=np.min(mses_ab) * 0.9, right=np.max(mses_ab) * 1.1)\n",
    "ax1.set_yticks(xval)\n",
    "ax1.set_xlabel('cross_val_score accuracy')\n",
    "ax1.invert_yaxis()\n",
    "ax1.set_yticklabels(x_labels)\n",
    "\n",
    "# plot results svc\n",
    "ax2 = plt.subplot(122)\n",
    "for j in xval:\n",
    "    ax2.barh(j, mses_svc[j], xerr=stds_svc[j], color=colors[j], alpha=0.6, align='center')\n",
    "    ax2.text(mses_svc[j] , j + .25, str(mses_svc[j]), color=colors[j], fontweight='bold')\n",
    "\n",
    "ax2.set_title('SVC(kernel=\"linear\", random_state=10)')\n",
    "ax2.set_xlim(left=np.min(mses_ab) * 0.9, right=np.max(mses_ab) * 1.1)\n",
    "ax2.set_yticks(xval)\n",
    "ax2.set_xlabel('cross_val_score accuracy')\n",
    "ax2.invert_yaxis()\n",
    "ax2.set_yticklabels([''] * n_bars)\n",
    "plt.savefig(\"figures_python/imputation_techniques/imputation_techniques_ab_svc.pdf\")\n",
    "plt.show()\n",
    "\n"
   ]
  },
  {
   "cell_type": "code",
   "execution_count": null,
   "metadata": {},
   "outputs": [],
   "source": [
    "import matplotlib.pyplot as plt\n",
    "\n",
    "\n",
    "n_bars = len(mses)\n",
    "xval = np.arange(n_bars)\n",
    "\n",
    "colors = ['r', 'g', 'b', 'orange', 'black', 'skyblue', 'darkslategray']\n",
    "# plot results gnb\n",
    "plt.figure(figsize=(12, 6))\n",
    "ax1 = plt.subplot(121)\n",
    "for j in xval:\n",
    "    ax1.barh(j, mses_gnb[j], xerr=stds_gnb[j], color=colors[j], alpha=0.6, align='center')\n",
    "    ax1.text(mses_gnb[j] , j + .25, str(mses_gnb[j]), color=colors[j], fontweight='bold')\n",
    "\n",
    "ax1.set_title('GaussianNB()')\n",
    "ax1.set_xlim(left=np.min(mses_gnb) * 0.9, right=np.max(mses_gnb) * 1.1)\n",
    "ax1.set_yticks(xval)\n",
    "ax1.set_xlabel('cross_val_score accuracy')\n",
    "ax1.invert_yaxis()\n",
    "ax1.set_yticklabels(x_labels)\n",
    "\n",
    "# plot results svc_linear\n",
    "ax2 = plt.subplot(122)\n",
    "for j in xval:\n",
    "    ax2.barh(j, mses_linear_svc[j], xerr=stds_linear_svc[j], color=colors[j], alpha=0.6, align='center')\n",
    "    ax2.text(mses_linear_svc[j] , j + .25, str(mses_linear_svc[j]), color=colors[j], fontweight='bold')\n",
    "\n",
    "ax2.set_title('LinearSVC(random_state=10)')\n",
    "ax2.set_xlim(left=np.min(mses_gnb) * 0.9, right=np.max(mses_gnb) * 1.1)\n",
    "ax2.set_yticks(xval)\n",
    "ax2.set_xlabel('cross_val_score accuracy')\n",
    "ax2.invert_yaxis()\n",
    "ax2.set_yticklabels([''] * n_bars)\n",
    "plt.savefig(\"figures_python/imputation_techniques/imputation_techniques_gnb_svc_linear.pdf\")\n",
    "plt.show()\n"
   ]
  },
  {
   "source": [
    "# Same as before but comparing standard and minmax scaling"
   ],
   "cell_type": "markdown",
   "metadata": {}
  },
  {
   "source": [
    "### StandarScaler"
   ],
   "cell_type": "markdown",
   "metadata": {}
  },
  {
   "cell_type": "code",
   "execution_count": null,
   "metadata": {},
   "outputs": [],
   "source": [
    "scaler = StandardScaler()\n",
    "X_scaled = scaler.fit_transform(X)\n",
    "X_no_nan_scaled = scaler.fit_transform(X_no_nan)"
   ]
  },
  {
   "cell_type": "code",
   "execution_count": null,
   "metadata": {},
   "outputs": [],
   "source": [
    "min_max = MinMaxScaler()\n",
    "X_min_max = min_max.fit_transform(X)\n",
    "X_no_nan_min_max = min_max.fit_transform(X_no_nan)"
   ]
  },
  {
   "cell_type": "code",
   "execution_count": null,
   "metadata": {},
   "outputs": [],
   "source": [
    "from sklearn.neighbors import KNeighborsClassifier\n",
    "from sklearn.naive_bayes import MultinomialNB\n",
    "from sklearn.gaussian_process import GaussianProcessClassifier\n",
    "'''\n",
    "SVM (linear)\":SVC(kernel=\"linear\", random_state=10)\n",
    "SVC(kernel=\"rbf\", random_state=10)\n",
    "SVC(kernel=\"sigmoid\", random_state=10)\n",
    "SVC(kernel=\"poly\", random_state=10)\n",
    "MultinomialNB()\n",
    "'''\n",
    "\n",
    "gnb = GaussianProcessClassifier()\n",
    "svc = SVC(kernel=\"poly\", random_state=10)\n",
    "svc_linear = LinearSVC(random_state=10)"
   ]
  },
  {
   "cell_type": "code",
   "execution_count": null,
   "metadata": {},
   "outputs": [],
   "source": [
    "mses_knn = np.zeros(7)\n",
    "stds_knn = np.zeros(7)"
   ]
  },
  {
   "cell_type": "code",
   "execution_count": null,
   "metadata": {},
   "outputs": [],
   "source": [
    "mses_gnb_scaled = np.zeros(7)\n",
    "stds_gnb_scaled = np.zeros(7)\n",
    "mses_svc_scaled = np.zeros(7)\n",
    "stds_svc_scaled = np.zeros(7)\n",
    "mses_svc_linear_scaled = np.zeros(7)\n",
    "stds_svc_linear_scaled = np.zeros(7)"
   ]
  },
  {
   "cell_type": "code",
   "execution_count": null,
   "metadata": {},
   "outputs": [],
   "source": [
    "mses_gnb_minmax = np.zeros(7)\n",
    "stds_gnb_minmax = np.zeros(7)\n",
    "mses_svc_minmax = np.zeros(7)\n",
    "stds_svc_minmax = np.zeros(7)\n",
    "mses_svc_linear_minmax = np.zeros(7)\n",
    "stds_svc_linear_minmax = np.zeros(7)"
   ]
  },
  {
   "cell_type": "code",
   "execution_count": null,
   "metadata": {},
   "outputs": [],
   "source": [
    "mses_gnb_scaled[0], stds_gnb_scaled[0] = get_full_score(gnb, X_no_nan_scaled, y_no_nan)\n",
    "mses_svc_scaled[0], stds_svc_scaled[0] = get_full_score(svc, X_no_nan_scaled, y_no_nan)\n",
    "mses_svc_linear_scaled[0], stds_svc_linear_scaled[0] = get_full_score(svc_linear, X_no_nan_scaled, y_no_nan)"
   ]
  },
  {
   "cell_type": "code",
   "execution_count": null,
   "metadata": {},
   "outputs": [],
   "source": [
    "mses_gnb_minmax[0], stds_gnb_minmax[0] = get_full_score(gnb, X_no_nan_min_max, y_no_nan)\n",
    "mses_svc_minmax[0], stds_svc_minmax[0] = get_full_score(svc, X_no_nan_min_max, y_no_nan)\n",
    "mses_svc_linear_minmax[0], stds_svc_linear_minmax[0] = get_full_score(svc_linear, X_no_nan_min_max, y_no_nan)"
   ]
  },
  {
   "cell_type": "code",
   "execution_count": null,
   "metadata": {},
   "outputs": [],
   "source": [
    "mses_gnb_scaled[1], stds_gnb_scaled[1] = get_impute_zero_score(gnb, X_scaled, y)\n",
    "mses_svc_scaled[1], stds_svc_scaled[1] = get_impute_zero_score(svc, X_scaled, y)\n",
    "mses_svc_linear_scaled[1], stds_svc_linear_scaled[1] = get_impute_zero_score(svc_linear, X_scaled, y)"
   ]
  },
  {
   "cell_type": "code",
   "execution_count": null,
   "metadata": {},
   "outputs": [],
   "source": [
    "mses_gnb_minmax[1], stds_gnb_minmax[1] = get_impute_zero_score(gnb, X_min_max, y)\n",
    "mses_svc_minmax[1], stds_svc_minmax[1] = get_impute_zero_score(svc, X_min_max, y)\n",
    "mses_svc_linear_minmax[1], stds_svc_linear_minmax[1] = get_impute_zero_score(svc_linear, X_min_max, y)"
   ]
  },
  {
   "cell_type": "code",
   "execution_count": null,
   "metadata": {},
   "outputs": [],
   "source": [
    "mses_gnb_scaled[2], stds_gnb_scaled[2] = get_impute_mean(gnb, X_scaled, y)\n",
    "mses_svc_scaled[2], stds_svc_scaled[2] = get_impute_mean(svc, X_scaled, y)\n",
    "mses_svc_linear_scaled[2], stds_svc_linear_scaled[2] = get_impute_mean(svc_linear, X_scaled, y)"
   ]
  },
  {
   "cell_type": "code",
   "execution_count": null,
   "metadata": {},
   "outputs": [],
   "source": [
    "mses_gnb_minmax[2], stds_gnb_minmax[2] = get_impute_mean(gnb, X_min_max, y)\n",
    "mses_svc_minmax[2], stds_svc_minmax[2] = get_impute_mean(svc, X_min_max, y)\n",
    "mses_svc_linear_minmax[2], stds_svc_linear_minmax[2] = get_impute_mean(svc_linear, X_min_max, y)"
   ]
  },
  {
   "cell_type": "code",
   "execution_count": null,
   "metadata": {},
   "outputs": [],
   "source": [
    "mses_gnb_scaled[3], stds_gnb_scaled[3] = get_impute_median(gnb, X_scaled, y)\n",
    "mses_svc_scaled[3], stds_svc_scaled[3] = get_impute_median(svc, X_scaled, y)\n",
    "mses_svc_linear_scaled[3], stds_svc_linear_scaled[3] = get_impute_median(svc_linear, X_scaled, y)"
   ]
  },
  {
   "cell_type": "code",
   "execution_count": null,
   "metadata": {},
   "outputs": [],
   "source": [
    "mses_gnb_minmax[3], stds_gnb_minmax[3] = get_impute_median(gnb, X_min_max, y)\n",
    "mses_svc_minmax[3], stds_svc_minmax[3] = get_impute_median(svc, X_min_max, y)\n",
    "mses_svc_linear_minmax[3], stds_svc_linear_minmax[3] = get_impute_median(svc_linear, X_min_max, y)"
   ]
  },
  {
   "cell_type": "code",
   "execution_count": null,
   "metadata": {},
   "outputs": [],
   "source": [
    "mses_gnb_scaled[4], stds_gnb_scaled[4] = get_impute_mode(gnb, X_scaled, y)\n",
    "mses_svc_scaled[4], stds_svc_scaled[4] = get_impute_mode(svc, X_scaled, y)\n",
    "mses_svc_linear_scaled[4], stds_svc_linear_scaled[4] = get_impute_mode(svc_linear, X_scaled, y)"
   ]
  },
  {
   "cell_type": "code",
   "execution_count": null,
   "metadata": {},
   "outputs": [],
   "source": [
    "mses_gnb_minmax[4], stds_gnb_minmax[4] = get_impute_mode(gnb, X_min_max, y)\n",
    "mses_svc_minmax[4], stds_svc_minmax[4] = get_impute_mode(svc, X_min_max, y)\n",
    "mses_svc_linear_minmax[4], stds_svc_linear_minmax[4] = get_impute_mode(svc_linear, X_min_max, y)"
   ]
  },
  {
   "cell_type": "code",
   "execution_count": null,
   "metadata": {},
   "outputs": [],
   "source": [
    "mses_gnb_scaled[5], stds_gnb_scaled[5] = get_impute_knn_score(gnb, X_scaled, y)\n",
    "mses_svc_scaled[5], stds_svc_scaled[5] = get_impute_knn_score(svc, X_scaled, y)\n",
    "mses_svc_linear_scaled[5], stds_svc_linear_scaled[5] = get_impute_knn_score(svc_linear, X_scaled, y)"
   ]
  },
  {
   "cell_type": "code",
   "execution_count": null,
   "metadata": {},
   "outputs": [],
   "source": [
    "mses_gnb_minmax[5], stds_gnb_minmax[5] = get_impute_knn_score(gnb, X_min_max, y)\n",
    "mses_svc_minmax[5], stds_svc_minmax[5] = get_impute_knn_score(svc, X_min_max, y)\n",
    "mses_svc_linear_minmax[5], stds_svc_linear_minmax[5] = get_impute_knn_score(svc_linear, X_min_max, y)"
   ]
  },
  {
   "cell_type": "code",
   "execution_count": null,
   "metadata": {},
   "outputs": [],
   "source": [
    "mses_gnb_scaled[6], stds_gnb_scaled[6] = get_impute_iterative(gnb, X_scaled, y)\n",
    "mses_svc_scaled[6], stds_svc_scaled[6] = get_impute_iterative(svc, X_scaled, y)\n",
    "mses_svc_linear_scaled[6], stds_svc_linear_scaled[6] = get_impute_iterative(svc_linear, X_scaled, y)"
   ]
  },
  {
   "cell_type": "code",
   "execution_count": null,
   "metadata": {},
   "outputs": [],
   "source": [
    "mses_gnb_minmax[6], stds_gnb_minmax[6] = get_impute_iterative(gnb, X_min_max, y)\n",
    "mses_svc_minmax[6], stds_svc_scaled[6] = get_impute_iterative(svc, X_min_max, y)\n",
    "mses_svc_linear_minmax[6], stds_svc_linear_scaled[6] = get_impute_iterative(svc_linear, X_min_max, y)"
   ]
  },
  {
   "cell_type": "code",
   "execution_count": null,
   "metadata": {},
   "outputs": [],
   "source": [
    "import matplotlib.pyplot as plt\n",
    "\n",
    "\n",
    "n_bars = len(mses)\n",
    "xval = np.arange(n_bars)\n",
    "\n",
    "colors = ['r', 'g', 'b', 'orange', 'black', 'skyblue', 'darkslategray']\n",
    "# plot results gnb\n",
    "plt.figure(figsize=(12, 6))\n",
    "ax1 = plt.subplot(131)\n",
    "for j in xval:\n",
    "    ax1.barh(j, mses_gnb[j], xerr=stds_gnb[j], color=colors[j], alpha=0.6, align='center')\n",
    "    ax1.text(mses_gnb[j] , j + .25, str(round(mses_gnb[j],3)), color=colors[j], fontweight='bold')\n",
    "\n",
    "ax1.set_title('GaussianProcessClassifier()')\n",
    "ax1.set_xlim(left=np.min(mses_gnb) * 0.9, right=np.max(mses_gnb) * 1.1)\n",
    "ax1.set_yticks(xval)\n",
    "ax1.set_xlabel('cross_val_score accuracy')\n",
    "ax1.invert_yaxis()\n",
    "ax1.set_yticklabels(x_labels)\n",
    "\n",
    "\n",
    "# plot results gnb scaled\n",
    "ax2 = plt.subplot(132)\n",
    "for j in xval:\n",
    "    ax2.barh(j, mses_gnb_scaled[j], xerr=stds_gnb_scaled[j], color=colors[j], alpha=0.6, align='center')\n",
    "    ax2.text(mses_gnb_scaled[j] , j + .25, str(round(mses_gnb_scaled[j],3)), color=colors[j], fontweight='bold')\n",
    "\n",
    "ax2.set_title('(Scaled)')\n",
    "ax2.set_xlim(left=np.min(mses_gnb) * 0.9, right=np.max(mses_gnb) * 1.1)\n",
    "ax2.set_yticks(xval)\n",
    "ax2.set_xlabel('cross_val_score accuracy')\n",
    "ax2.invert_yaxis()\n",
    "ax2.set_yticklabels([''] * n_bars)\n",
    "\n",
    "# plot results gnb minmax\n",
    "ax3 = plt.subplot(133)\n",
    "for j in xval:\n",
    "    ax3.barh(j, mses_gnb_minmax[j], xerr=stds_gnb_minmax[j], color=colors[j], alpha=0.6, align='center')\n",
    "    ax3.text(mses_gnb_minmax[j] , j + .25, str(round(mses_gnb_minmax[j],3)), color=colors[j], fontweight='bold')\n",
    "\n",
    "ax3.set_title('(Normalized)')\n",
    "ax3.set_xlim(left=np.min(mses_gnb) * 0.9, right=np.max(mses_gnb) * 1.1)\n",
    "ax3.set_yticks(xval)\n",
    "ax3.set_xlabel('cross_val_score accuracy')\n",
    "ax3.invert_yaxis()\n",
    "ax3.set_yticklabels([''] * n_bars)\n",
    "plt.savefig(\"figures_python/imputation_techniques/imputation_techniques_gpc_scaled_minmax.pdf\")\n",
    "plt.show()"
   ]
  },
  {
   "cell_type": "code",
   "execution_count": null,
   "metadata": {},
   "outputs": [],
   "source": [
    "import matplotlib.pyplot as plt\n",
    "\n",
    "\n",
    "n_bars = len(mses)\n",
    "xval = np.arange(n_bars)\n",
    "\n",
    "colors = ['r', 'g', 'b', 'orange', 'black', 'skyblue', 'darkslategray']\n",
    "# plot results svc\n",
    "plt.figure(figsize=(12, 6))\n",
    "ax1 = plt.subplot(131)\n",
    "for j in xval:\n",
    "    ax1.barh(j, mses_svc[j], xerr=stds_svc[j], color=colors[j], alpha=0.6, align='center')\n",
    "    ax1.text(mses_svc[j] , j + .25, str(round(mses_svc[j],3)), color=colors[j], fontweight='bold')\n",
    "\n",
    "ax1.set_title('SVC(kernel=\"poly\", random_state=10)')\n",
    "ax1.set_xlim(left=np.min(mses_svc) * 0.9, right=np.max(mses_svc) * 1.1)\n",
    "ax1.set_yticks(xval)\n",
    "ax1.set_xlabel('cross_val_score accuracy')\n",
    "ax1.invert_yaxis()\n",
    "ax1.set_yticklabels(x_labels)\n",
    "\n",
    "\n",
    "# plot results svc scaled\n",
    "ax2 = plt.subplot(132)\n",
    "for j in xval:\n",
    "    ax2.barh(j, mses_svc_scaled[j], xerr=stds_svc_scaled[j], color=colors[j], alpha=0.6, align='center')\n",
    "    ax2.text(mses_svc_scaled[j] , j + .25, str(round(mses_svc_scaled[j],3)), color=colors[j], fontweight='bold')\n",
    "\n",
    "ax2.set_title('(Scaled)')\n",
    "ax2.set_xlim(left=np.min(mses_svc) * 0.9, right=np.max(mses_svc) * 1.1)\n",
    "ax2.set_yticks(xval)\n",
    "ax2.set_xlabel('cross_val_score accuracy')\n",
    "ax2.invert_yaxis()\n",
    "ax2.set_yticklabels([''] * n_bars)\n",
    "\n",
    "# plot results svc minmax\n",
    "ax3 = plt.subplot(133)\n",
    "for j in xval:\n",
    "    ax3.barh(j, mses_svc_minmax[j], xerr=stds_svc_minmax[j], color=colors[j], alpha=0.6, align='center')\n",
    "    ax3.text(mses_svc_minmax[j] , j + .25, str(round(mses_svc_minmax[j],3)), color=colors[j], fontweight='bold')\n",
    "\n",
    "ax3.set_title('(Normalized)')\n",
    "ax3.set_xlim(left=np.min(mses_svc) * 0.9, right=np.max(mses_svc) * 1.1)\n",
    "ax3.set_yticks(xval)\n",
    "ax3.set_xlabel('cross_val_score accuracy')\n",
    "ax3.invert_yaxis()\n",
    "ax3.set_yticklabels([''] * n_bars)\n",
    "plt.savefig(\"figures_python/imputation_techniques/imputation_techniques_svc_poly_scaled_minmax.pdf\")\n",
    "plt.show()"
   ]
  },
  {
   "cell_type": "code",
   "execution_count": null,
   "metadata": {},
   "outputs": [],
   "source": [
    "import matplotlib.pyplot as plt\n",
    "\n",
    "\n",
    "n_bars = len(mses)\n",
    "xval = np.arange(n_bars)\n",
    "\n",
    "colors = ['r', 'g', 'b', 'orange', 'black', 'skyblue', 'darkslategray']\n",
    "# plot results svc_linear\n",
    "plt.figure(figsize=(12, 6))\n",
    "ax1 = plt.subplot(131)\n",
    "for j in xval:\n",
    "    ax1.barh(j, mses_linear_svc[j], xerr=stds_linear_svc[j], color=colors[j], alpha=0.6, align='center')\n",
    "    ax1.text(mses_linear_svc[j] , j + .25, str(round(mses_linear_svc[j],3)), color=colors[j], fontweight='bold')\n",
    "\n",
    "ax1.set_title('LinearSVC(random_state=10)')\n",
    "ax1.set_xlim(left=np.min(mses_linear_svc) * 0.9, right=np.max(mses_linear_svc) * 1.1)\n",
    "ax1.set_yticks(xval)\n",
    "ax1.set_xlabel('cross_val_score accuracy')\n",
    "ax1.invert_yaxis()\n",
    "ax1.set_yticklabels(x_labels)\n",
    "\n",
    "\n",
    "# plot results svc_linear scaled\n",
    "ax2 = plt.subplot(132)\n",
    "for j in xval:\n",
    "    ax2.barh(j, mses_svc_linear_scaled[j], xerr=stds_svc_linear_scaled[j], color=colors[j], alpha=0.6, align='center')\n",
    "    ax2.text(mses_svc_linear_scaled[j] , j + .25, str(round(mses_svc_linear_scaled[j],3)), color=colors[j], fontweight='bold')\n",
    "\n",
    "ax2.set_title('(Scaled)')\n",
    "ax2.set_xlim(left=np.min(mses_svc) * 0.9, right=np.max(mses_svc) * 1.1)\n",
    "ax2.set_yticks(xval)\n",
    "ax2.set_xlabel('cross_val_score accuracy')\n",
    "ax2.invert_yaxis()\n",
    "ax2.set_yticklabels([''] * n_bars)\n",
    "\n",
    "# plot results svc_linear minmax\n",
    "ax3 = plt.subplot(133)\n",
    "for j in xval:\n",
    "    ax3.barh(j, mses_svc_linear_minmax[j], xerr=stds_svc_linear_minmax[j], color=colors[j], alpha=0.6, align='center')\n",
    "    ax3.text(mses_svc_linear_minmax[j] , j + .25, str(round(mses_svc_linear_minmax[j],3)), color=colors[j], fontweight='bold')\n",
    "\n",
    "ax3.set_title('(Normalized)')\n",
    "ax3.set_xlim(left=np.min(mses_svc) * 0.9, right=np.max(mses_svc) * 1.1)\n",
    "ax3.set_yticks(xval)\n",
    "ax3.set_xlabel('cross_val_score accuracy')\n",
    "ax3.invert_yaxis()\n",
    "ax3.set_yticklabels([''] * n_bars)\n",
    "plt.savefig(\"figures_python/imputation_techniques/imputation_techniques_svc_linear_scaled_minmax.pdf\")\n",
    "plt.show()"
   ]
  },
  {
   "cell_type": "code",
   "execution_count": null,
   "metadata": {},
   "outputs": [],
   "source": [
    "knn = KNeighborsClassifier(n_neighbors = 6)"
   ]
  },
  {
   "cell_type": "code",
   "execution_count": null,
   "metadata": {},
   "outputs": [],
   "source": [
    "mses_knn = np.zeros(7)\n",
    "stds_knn = np.zeros(7)\n",
    "mses_knn_scaled = np.zeros(7)\n",
    "stds_knn_scaled = np.zeros(7)\n",
    "mses_knn_minmax = np.zeros(7)\n",
    "stds_knn_minmax = np.zeros(7)"
   ]
  },
  {
   "cell_type": "code",
   "execution_count": null,
   "metadata": {},
   "outputs": [],
   "source": [
    "mses_knn[0], stds_knn[0] = get_full_score(knn, X_no_nan, y_no_nan)\n",
    "mses_knn_scaled[0], stds_knn_scaled[0] = get_full_score(knn, X_no_nan_scaled, y_no_nan)\n",
    "mses_knn_minmax[0], stds_knn_minmax[0] = get_full_score(knn, X_no_nan_min_max, y_no_nan)"
   ]
  },
  {
   "cell_type": "code",
   "execution_count": null,
   "metadata": {},
   "outputs": [],
   "source": [
    "mses_knn[1], stds_knn[1] = get_impute_zero_score(knn, X, y)\n",
    "mses_knn_scaled[1], stds_knn_scaled[1] = get_impute_zero_score(knn, X_scaled, y)\n",
    "mses_knn_minmax[1], stds_knn_minmax[1] = get_impute_zero_score(knn, X_min_max, y)"
   ]
  },
  {
   "cell_type": "code",
   "execution_count": null,
   "metadata": {},
   "outputs": [],
   "source": [
    "mses_knn[2], stds_knn[2] = get_impute_mean(knn, X, y)\n",
    "mses_knn_scaled[2], stds_knn_scaled[2] = get_impute_mean(knn, X_scaled, y)\n",
    "mses_knn_minmax[2], stds_knn_minmax[2] = get_impute_mean(knn, X_min_max, y)"
   ]
  },
  {
   "cell_type": "code",
   "execution_count": null,
   "metadata": {},
   "outputs": [],
   "source": [
    "mses_knn[3], stds_knn[3] = get_impute_median(knn, X, y)\n",
    "mses_knn_scaled[3], stds_knn_scaled[3] = get_impute_median(knn, X_scaled, y)\n",
    "mses_knn_minmax[3], stds_knn_minmax[3] = get_impute_median(knn, X_min_max, y)"
   ]
  },
  {
   "cell_type": "code",
   "execution_count": null,
   "metadata": {},
   "outputs": [],
   "source": [
    "mses_knn[4], stds_knn[4] = get_impute_mode(knn, X, y)\n",
    "mses_knn_scaled[4], stds_knn_scaled[4] = get_impute_mode(knn, X_scaled, y)\n",
    "mses_knn_minmax[4], stds_knn_minmax[4] = get_impute_mode(knn, X_min_max, y)"
   ]
  },
  {
   "cell_type": "code",
   "execution_count": null,
   "metadata": {},
   "outputs": [],
   "source": [
    "mses_knn[5], stds_knn[5] = get_impute_knn_score(knn, X, y)\n",
    "mses_knn_scaled[5], stds_knn_scaled[5] = get_impute_knn_score(knn, X_scaled, y)\n",
    "mses_knn_minmax[5], stds_knn_minmax[5] = get_impute_knn_score(knn, X_min_max, y)"
   ]
  },
  {
   "cell_type": "code",
   "execution_count": null,
   "metadata": {},
   "outputs": [],
   "source": [
    "mses_knn[6], stds_knn[6] = get_impute_iterative(knn, X, y)\n",
    "mses_knn_scaled[6], stds_knn_scaled[6] = get_impute_iterative(knn, X_scaled, y)\n",
    "mses_knn_minmax[6], stds_knn_minmax[6] = get_impute_iterative(knn, X_min_max, y)"
   ]
  },
  {
   "cell_type": "code",
   "execution_count": null,
   "metadata": {},
   "outputs": [],
   "source": [
    "import matplotlib.pyplot as plt\n",
    "\n",
    "\n",
    "n_bars = len(mses)\n",
    "xval = np.arange(n_bars)\n",
    "\n",
    "colors = ['r', 'g', 'b', 'orange', 'black', 'skyblue', 'darkslategray']\n",
    "# plot results knn\n",
    "plt.figure(figsize=(12, 6))\n",
    "ax1 = plt.subplot(131)\n",
    "for j in xval:\n",
    "    ax1.barh(j, mses_knn[j], xerr=stds_knn[j], color=colors[j], alpha=0.6, align='center')\n",
    "    ax1.text(mses_knn[j] , j + .25, str(round(mses_knn[j],3)), color=colors[j], fontweight='bold')\n",
    "\n",
    "ax1.set_title('KNeighborsClassifier(n_neighbors = 6)')\n",
    "ax1.set_xlim(left=np.min(mses_knn) * 0.9, right=np.max(mses_knn) * 1.1)\n",
    "ax1.set_yticks(xval)\n",
    "ax1.set_xlabel('cross_val_score accuracy')\n",
    "ax1.invert_yaxis()\n",
    "ax1.set_yticklabels(x_labels)\n",
    "\n",
    "\n",
    "# plot results knn scaled\n",
    "ax2 = plt.subplot(132)\n",
    "for j in xval:\n",
    "    ax2.barh(j, mses_knn_scaled[j], xerr=stds_knn_scaled[j], color=colors[j], alpha=0.6, align='center')\n",
    "    ax2.text(mses_knn_scaled[j] , j + .25, str(round(mses_knn_scaled[j],3)), color=colors[j], fontweight='bold')\n",
    "\n",
    "ax2.set_title('(Scaled)')\n",
    "ax2.set_xlim(left=np.min(mses_knn) * 0.9, right=np.max(mses_knn) * 1.1)\n",
    "ax2.set_yticks(xval)\n",
    "ax2.set_xlabel('cross_val_score accuracy')\n",
    "ax2.invert_yaxis()\n",
    "ax2.set_yticklabels([''] * n_bars)\n",
    "\n",
    "# plot results knn minmax\n",
    "ax3 = plt.subplot(133)\n",
    "for j in xval:\n",
    "    ax3.barh(j, mses_knn_minmax[j], xerr=stds_knn_minmax[j], color=colors[j], alpha=0.6, align='center')\n",
    "    ax3.text(mses_knn_minmax[j] , j + .25, str(round(mses_knn_minmax[j],3)), color=colors[j], fontweight='bold')\n",
    "\n",
    "ax3.set_title('(Normalized)')\n",
    "ax3.set_xlim(left=np.min(mses_knn) * 0.9, right=np.max(mses_knn) * 1.1)\n",
    "ax3.set_yticks(xval)\n",
    "ax3.set_xlabel('cross_val_score accuracy')\n",
    "ax3.invert_yaxis()\n",
    "ax3.set_yticklabels([''] * n_bars)\n",
    "plt.savefig(\"figures_python/imputation_techniques/imputation_techniques_knn_scaled_minmax.pdf\")\n",
    "plt.show()"
   ]
  },
  {
   "source": [
    "The numeric data is standard-scaled after mean-imputation, while the categorical data is one-hot encoded after imputing missing values with a new category "
   ],
   "cell_type": "markdown",
   "metadata": {}
  },
  {
   "source": [
    "Numeric Features:\n",
    "\n",
    "* Age: float\n",
    "* BI-RADS: float\n",
    "* Margin: float\n",
    "* Density: float\n",
    "\n",
    "Categorical Features:\n",
    "* Shape: categories encoded as strings {'L' 'R' 'I' 'N' 'O'}\n",
    "* Severity(target): categories encoded as strings {'maligno', 'benigno'}\n"
   ],
   "cell_type": "markdown",
   "metadata": {}
  }
 ]
}